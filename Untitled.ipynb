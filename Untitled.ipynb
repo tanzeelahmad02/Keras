{
 "cells": [
  {
   "cell_type": "code",
   "execution_count": 2,
   "metadata": {},
   "outputs": [
    {
     "name": "stderr",
     "output_type": "stream",
     "text": [
      "Using TensorFlow backend.\n"
     ]
    }
   ],
   "source": [
    "import cv2\n",
    "import keras\n",
    "import tensorflow as tf\n",
    "import numpy as np\n",
    "import math\n",
    "import pandas as pd\n",
    "import matplotlib.pyplot as plt\n",
    "\n",
    "from keras import models\n",
    "from keras import layers\n",
    "from keras import optimizers\n",
    "\n"
   ]
  },
  {
   "cell_type": "code",
   "execution_count": null,
   "metadata": {},
   "outputs": [],
   "source": [
    "print('Keras_Version: ', keras.__version__)\n",
    "print('TensorFlow_Version: ', tf.__version__)"
   ]
  },
  {
   "cell_type": "code",
   "execution_count": null,
   "metadata": {},
   "outputs": [],
   "source": [
    "x_data = np.linspace(0.0,10.0,500000) # Create Data\n",
    "print('X Data', x_data)\n",
    "noise = np.random.randn(len(x_data))\n",
    "#print('Noise: ',noise)\n",
    "\n",
    "y_data = (0.5*x_data) + 5 + noise\n",
    "print('Y Data', y_data)\n",
    "\n",
    "# To form table or column data.... \n",
    "data_frame = pd.concat([pd.DataFrame(data=x_data,columns=['X Data']), pd.DataFrame(data=y_data,columns=['Y Data'])],axis=1)\n",
    "print(data_frame.head(10))\n",
    "\n",
    "data_frame.sample(n=250).plot(kind='scatter', x='X Data', y='Y Data')\n",
    "plt.show(); plt.close();\n",
    "\n",
    "# Define Model\n",
    "model = models.Sequential()\n",
    "model.add(layers.Dense(units=1, input_dim=1, activation='linear'))\n",
    "\n",
    "# model.add(layers.Dense(units=1, input_dim=1))\n",
    "# model.add(layers.Activation('linear'))\n",
    "\n",
    "model.compile(loss='mean_squared_error', optimizer='rmsprop', metrics=['mse'] )\n",
    "\n",
    "model.summary() # Number of Trainable Params = output_size * (input_size+1)\n",
    "\n"
   ]
  },
  {
   "cell_type": "code",
   "execution_count": null,
   "metadata": {},
   "outputs": [],
   "source": [
    "# ------------------------------- Code Block #2 --------------------------------\n",
    "from keras.callbacks import TensorBoard\n",
    "\n",
    "tensorboard = TensorBoard(log_dir='./keras')        #batch size can vary from (1 to thousands of #)\n",
    "hist = model.fit(x=x_data[0:5000], y=y_data[0:5000], batch_size=1, epochs=10, shuffle=True, callbacks=[tensorboard])\n",
    "# ------------------------------------------------------------------------------\n"
   ]
  },
  {
   "cell_type": "code",
   "execution_count": null,
   "metadata": {},
   "outputs": [],
   "source": [
    "# ------------------------------- Code Block #3 --------------------------------\n",
    "# Instead of using Tensor Board, we can plot data by the following method.........\n",
    "\n",
    "number_of_epochs = 10\n",
    "training_loss = hist.history['loss']\n",
    "x = range(number_of_epochs)\n",
    "\n",
    "plt.plot(x, training_loss)\n",
    "plt.xlabel('Number of Epochs')\n",
    "plt.ylabel('Training Loss')\n",
    "plt.savefig('Plot.png')\n",
    "plt.close()\n",
    "\n",
    "print('Number of Layers :', len(model.layers))\n",
    "model_parameters = model.layers[0].get_weights()\n",
    "print('Model Gradient (W) :', model_parameters[0][0]) \n",
    "print('Model Intercept (b) :', model_parameters[1])\n",
    "# ------------------------------------------------------------------------------\n"
   ]
  },
  {
   "cell_type": "code",
   "execution_count": null,
   "metadata": {},
   "outputs": [],
   "source": [
    "# ------------------------------- Code Block #4 --------------------------------\n",
    "# Save Model ------- Now we can load our model without any training more.\n",
    "\n",
    "model.save('keras_model.h5')\n",
    "\n",
    "# Load Model    --------------  Now we don't need any code that whole model we have written above.\n",
    "from keras.models import load_model\n",
    "loaded_model = load_model('./keras_model.h5')\n",
    "\n",
    "model_parameters = loaded_model.layers[0].get_weights()\n",
    "print('Model Gradient (W) :', model_parameters[0][0])\n",
    "print('Model Intercept (b) :', model_parameters[1])"
   ]
  },
  {
   "cell_type": "code",
   "execution_count": 19,
   "metadata": {},
   "outputs": [
    {
     "name": "stdout",
     "output_type": "stream",
     "text": [
      "X Data [-3.14159265 -2.57039399 -1.99919533 -1.42799666 -0.856798   -0.28559933\n",
      "  0.28559933  0.856798    1.42799666  1.99919533  2.57039399  3.14159265]\n"
     ]
    }
   ],
   "source": [
    "\n",
    "# ------------------------------- Code Block #6 --------------------------------\n",
    "# Sigmoid\n",
    "def sigmoid(x):\n",
    "\tdat = []\n",
    "\tfor item in x: dat.append(1/(1+math.exp(-item)))\n",
    "\treturn dat\n",
    "\n",
    "# Define Model\n",
    "model = models.Sequential()\n",
    "model.add(layers.Dense(units=1, input_dim=1, activation='sigmoid'))\n",
    "model.compile(loss='mean_squared_error', optimizer='rmsprop', metrics=['mse'])\n",
    "\n",
    "x_data = np.linspace(-np.pi, np.pi, 12) # Create Data\n",
    "# x_data = np.linspace(-10, 10, 12) # Create Data\n",
    "print('X Data', x_data)\n",
    "\n",
    "model = sigmoid(x_data)\n",
    "\n",
    "plt.plot(x_data, model, 'r')\n",
    "plt.savefig('ModelPlot.png')\n",
    "plt.close()"
   ]
  },
  {
   "cell_type": "code",
   "execution_count": 20,
   "metadata": {},
   "outputs": [
    {
     "name": "stdout",
     "output_type": "stream",
     "text": [
      "X Data [-3.14159265 -2.57039399 -1.99919533 -1.42799666 -0.856798   -0.28559933\n",
      "  0.28559933  0.856798    1.42799666  1.99919533  2.57039399  3.14159265]\n"
     ]
    }
   ],
   "source": [
    "# ------------------------------- Code Block #7 --------------------------------\n",
    "# TanH\n",
    "# Define Model\n",
    "model = models.Sequential()\n",
    "model.add(layers.Dense(units=1, input_dim=1, activation='tanh'))\n",
    "model.compile(loss='mean_squared_error', optimizer='rmsprop', metrics=['mse'])\n",
    "\n",
    "x_data = np.linspace(-np.pi, np.pi, 12) # Create Data\n",
    "# x_data = np.linspace(0.0, 10.0, 100) # Create Data\n",
    "print('X Data', x_data)\n",
    "\n",
    "model = np.tanh(x_data)\n",
    "\n",
    "plt.plot(x_data, model, 'r')\n",
    "plt.savefig('ModelPlot.png')\n",
    "plt.close()"
   ]
  },
  {
   "cell_type": "code",
   "execution_count": 28,
   "metadata": {},
   "outputs": [
    {
     "name": "stdout",
     "output_type": "stream",
     "text": [
      "X Data [-3.14159265 -2.57039399 -1.99919533 -1.42799666 -0.856798   -0.28559933\n",
      "  0.28559933  0.856798    1.42799666  1.99919533  2.57039399  3.14159265]\n"
     ]
    }
   ],
   "source": [
    "# ------------------------------- Code Block #8 --------------------------------\n",
    "# ReLU\n",
    "# Define Model\n",
    "model = models.Sequential()\n",
    "model.add(layers.Dense(units=1, input_dim=1, activation='relu'))\n",
    "model.compile(loss='mean_squared_error', optimizer='rmsprop', metrics=['mse'])\n",
    "\n",
    "def ReLU(x):\n",
    "\tdat = []\n",
    "\tfor item in x: dat.append(max(item, 0))\n",
    "\treturn dat\n",
    "\n",
    "x_data = np.linspace(-np.pi, np.pi, 12) # Create Data\n",
    "#x_data = np.linspace(0.0, 10.0, 100) # Create Data\n",
    "print('X Data', x_data)\n",
    "\n",
    "model = ReLU(x_data)\n",
    "\n",
    "plt.plot(x_data, model, 'r')\n",
    "plt.savefig('ModelPlot.png')\n",
    "plt.close()\n"
   ]
  },
  {
   "cell_type": "code",
   "execution_count": 29,
   "metadata": {},
   "outputs": [
    {
     "name": "stdout",
     "output_type": "stream",
     "text": [
      "X Data [-3.14159265 -2.57039399 -1.99919533 -1.42799666 -0.856798   -0.28559933\n",
      "  0.28559933  0.856798    1.42799666  1.99919533  2.57039399  3.14159265]\n"
     ]
    }
   ],
   "source": [
    "# ------------------------------- Code Block #9 --------------------------------\n",
    "# Leaky ReLU\n",
    "#Define Model\n",
    "\n",
    "#model = models.Sequential()\n",
    "#model.add(layers.Dense(units=1, input_dim=1, activation='LeakyReLU'))\n",
    "#model.compile(loss='mean_squared_error', optimizer='rmsprop', metrics=['mse'])\n",
    "\n",
    "def LeakyReLU(x, alpha=0.1):\n",
    "    dat = []\n",
    "    for item in x:\n",
    "        if item<0: dat.append(alpha*item)\n",
    "        else: dat.append(item)\n",
    "    return dat\n",
    "\n",
    "x_data = np.linspace(-np.pi, np.pi, 12) # Create Data\n",
    "# x_data = np.linspace(0.0, 10.0, 100) # Create Data\n",
    "print('X Data', x_data)\n",
    "\n",
    "model = LeakyReLU(x_data)\n",
    "\n",
    "plt.plot(x_data, model, 'r')\n",
    "plt.savefig('ModelPlot.png')\n",
    "plt.close()\n"
   ]
  },
  {
   "cell_type": "code",
   "execution_count": null,
   "metadata": {},
   "outputs": [],
   "source": []
  }
 ],
 "metadata": {
  "kernelspec": {
   "display_name": "Python 3",
   "language": "python",
   "name": "python3"
  },
  "language_info": {
   "codemirror_mode": {
    "name": "ipython",
    "version": 3
   },
   "file_extension": ".py",
   "mimetype": "text/x-python",
   "name": "python",
   "nbconvert_exporter": "python",
   "pygments_lexer": "ipython3",
   "version": "3.7.4"
  }
 },
 "nbformat": 4,
 "nbformat_minor": 2
}
